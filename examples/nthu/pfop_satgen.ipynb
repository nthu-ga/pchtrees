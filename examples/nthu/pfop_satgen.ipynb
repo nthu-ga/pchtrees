{
 "cells": [
  {
   "cell_type": "code",
   "execution_count": 18,
   "id": "75e1bf99-52a6-4a6a-bcda-1c4a95a6fa2f",
   "metadata": {},
   "outputs": [],
   "source": [
    "import sys\n",
    "import os\n",
    "\n",
    "import numpy as np\n",
    "import hdf5_tools.hdf5_tools as hdf5\n",
    "\n",
    "import matplotlib.pyplot as pl\n",
    "%matplotlib inline\n",
    "\n",
    "satgen_path = '/data/apcooper/sfw/SatGen/'\n",
    "if satgen_path not in sys.path:\n",
    "    sys.path.append(satgen_path)"
   ]
  },
  {
   "cell_type": "code",
   "execution_count": 1,
   "id": "35bff79e-edda-4dc2-a13f-d8c4f081fc9e",
   "metadata": {},
   "outputs": [
    {
     "name": "stdout",
     "output_type": "stream",
     "text": [
      "Header                   Group\n",
      "Progenitors              Group\n",
      "TreeTable                Group\n"
     ]
    }
   ],
   "source": [
    "!h5ls pfop.hdf5"
   ]
  },
  {
   "cell_type": "code",
   "execution_count": 2,
   "id": "56025d9e-b699-45cf-b1af-92f618a0b436",
   "metadata": {},
   "outputs": [
    {
     "name": "stdout",
     "output_type": "stream",
     "text": [
      "NFirstOrderProg          Dataset {20}\n",
      "RootMass                 Dataset {20}\n",
      "StartOffset              Dataset {20}\n",
      "TreeID                   Dataset {20}\n"
     ]
    }
   ],
   "source": [
    "!h5ls pfop.hdf5/TreeTable"
   ]
  },
  {
   "cell_type": "code",
   "execution_count": 3,
   "id": "1086e46e-3490-49bd-8c2b-67198dc1eef7",
   "metadata": {},
   "outputs": [
    {
     "name": "stdout",
     "output_type": "stream",
     "text": [
      "HostMass                 Dataset {189/Inf}\n",
      "MergedMass               Dataset {189/Inf}\n",
      "MergedZred               Dataset {189/Inf}\n",
      "ProgenitorMass           Dataset {189/Inf}\n",
      "ProgenitorZred           Dataset {189/Inf}\n",
      "TreeID                   Dataset {189/Inf}\n"
     ]
    }
   ],
   "source": [
    "!h5ls pfop.hdf5/Progenitors"
   ]
  },
  {
   "cell_type": "code",
   "execution_count": 5,
   "id": "f9f1ced8-c60c-4905-9dc2-0bb1738cffd7",
   "metadata": {},
   "outputs": [],
   "source": [
    "treeid = hdf5.read_hdf5_data('./pfop.hdf5','/Progenitors/TreeID')\n",
    "mhost  = hdf5.read_hdf5_data('./pfop.hdf5','/Progenitors/HostMass')\n",
    "mprog  = hdf5.read_hdf5_data('./pfop.hdf5','/Progenitors/ProgenitorMass')\n",
    "zred_i = hdf5.read_hdf5_data('./pfop.hdf5','/Progenitors/ProgenitorZred')\n",
    "zred_f = hdf5.read_hdf5_data('./pfop.hdf5','/Progenitors/MergedZred')\n",
    "mmerg  = hdf5.read_hdf5_data('./pfop.hdf5','/Progenitors/MergedMass')"
   ]
  },
  {
   "cell_type": "code",
   "execution_count": 6,
   "id": "5d0c7e87-fe3c-4280-b584-004cfbf5de47",
   "metadata": {},
   "outputs": [
    {
     "data": {
      "text/plain": [
       "7"
      ]
     },
     "execution_count": 6,
     "metadata": {},
     "output_type": "execute_result"
    }
   ],
   "source": [
    "in_tree = treeid == 0\n",
    "in_tree.sum()"
   ]
  },
  {
   "cell_type": "code",
   "execution_count": 51,
   "id": "3afac7a7-d40d-4162-ae40-98282060159f",
   "metadata": {},
   "outputs": [],
   "source": [
    "ievent = 0\n",
    "\n",
    "event = dict(zred_i = zred_i[ievent],\n",
    "             zred_f = zred_f[ievent],\n",
    "             mprog  = mprog[ievent],\n",
    "             mhost  = mhost[ievent],\n",
    "             mmerg  = mmerg[ievent])"
   ]
  },
  {
   "cell_type": "markdown",
   "id": "632d656c-8ea4-449f-8561-c66a2d05eee0",
   "metadata": {},
   "source": [
    "For each merger event, we need to initialize the orbit of the satellite.\n",
    "\n",
    "In SatGen, this amounts to creating an object `xv` from `init.orbit` or one of its variants. Taking the simplest case,\n",
    "\n",
    "```python\n",
    "eps = 1./np.pi*np.arccos(1.-2.*np.random.random())\n",
    "xv  = init.orbit(hp,xc=1.,eps=eps)\n",
    "```\n",
    "\n",
    "`eps` is the orbital circularity, which we can define in a function as follows:"
   ]
  },
  {
   "cell_type": "code",
   "execution_count": 31,
   "id": "3dcc1d1f-a266-4380-a104-a1e4c3c00d37",
   "metadata": {},
   "outputs": [],
   "source": [
    "def orbital_circularity_satgen_zentner(n=1):\n",
    "    eps = 1.0/np.pi*np.arccos(1.0-2.0*np.random.random(n))\n",
    "    return eps"
   ]
  },
  {
   "cell_type": "code",
   "execution_count": 32,
   "id": "7f43363f-03ca-45b1-8039-bb62bc89617b",
   "metadata": {},
   "outputs": [
    {
     "data": {
      "image/png": "[encoded data removed]",
      "text/plain": [
       "<Figure size 100x100 with 1 Axes>"
      ]
     },
     "metadata": {},
     "output_type": "display_data"
    }
   ],
   "source": [
    "pl.figure(figsize=(1,1))\n",
    "jc = orbital_circularity_satgen_zentner(1000000)\n",
    "pl.hist(jc,bins=50,density=True,color='grey');"
   ]
  },
  {
   "cell_type": "markdown",
   "id": "0fe42e57-1b11-4394-b9b6-974bbca9c361",
   "metadata": {},
   "source": [
    "The `init.orbit` function looks like:\n",
    "\n",
    "```python\n",
    "def orbit(hp,xc=1.0,eps=0.5):\n",
    "```\n",
    "(full version below). According to the docstring,\n",
    "```\n",
    "        hp: host potential (a halo density profile object, as defined \n",
    "            in profiles.py) \n",
    "        xc: the orbital energy parameter, defined such that if the \n",
    "            energy of the orbit is E, x_c(E) is the radius of a circular \n",
    "            orbit in units of the host halo's virial radius (default=1.)\n",
    "        eps: the orbital circularity parameter (default=0.5)\n",
    "```\n",
    "We have to specify the host potential. The SatGen `profiles.py` has a bunch of rountines for this. The resulting object has to be able to supply (for example) a virial radius, a circular velocity, and a potential. We're going to try and replace this stuff with halotools."
   ]
  },
  {
   "cell_type": "code",
   "execution_count": 36,
   "id": "a216a271-fdab-47e4-83cb-2edb47119b5f",
   "metadata": {},
   "outputs": [],
   "source": [
    "import halotools"
   ]
  },
  {
   "cell_type": "markdown",
   "id": "dce1ed5b-855b-427b-80e8-dffada56b9b8",
   "metadata": {},
   "source": [
    "The full `init.orbit` function:\n",
    "\n",
    "```python\n",
    "def orbit(hp,xc=1.0,eps=0.5):\n",
    "    \"\"\"\n",
    "    Initialize the orbit of a satellite, given orbit energy proxy (xc) \n",
    "    and circularity (eps).  \n",
    "    \n",
    "    Syntax:\n",
    "    \n",
    "        orbit(hp,xc=1.,eps=0.5,)\n",
    "        \n",
    "    where\n",
    "    \n",
    "        hp: host potential (a halo density profile object, as defined \n",
    "            in profiles.py) \n",
    "        xc: the orbital energy parameter, defined such that if the \n",
    "            energy of the orbit is E, x_c(E) is the radius of a circular \n",
    "            orbit in units of the host halo's virial radius (default=1.)\n",
    "        eps: the orbital circularity parameter (default=0.5)\n",
    "            \n",
    "    Return:\n",
    "    \n",
    "        phase-space coordinates in cylindrical frame \n",
    "        np.array([R,phi,z,VR,Vphi,Vz])\n",
    "    \"\"\"\n",
    "    r0 = hp.rh\n",
    "    rc = xc * hp.rh\n",
    "    theta = np.arccos(2.*np.random.random()-1.) # i.e., isotropy\n",
    "    zeta = 2.*np.pi*np.random.random() # i.e., uniform azimuthal \n",
    "        # angle, zeta, of velocity vector in theta-phi-r frame \n",
    "    Vc = hp.Vcirc(rc,)\n",
    "    Phic = hp.Phi(rc,)\n",
    "    Phi0 = hp.Phi(r0,)\n",
    "    V0 = np.sqrt(Vc**2 + 2.*(Phic-Phi0)) \n",
    "    S = eps * rc/r0 * Vc/V0\n",
    "    gamma = np.pi-np.arcsin(S) # angle between r and v vectors. Note that\n",
    "        # we use pi - np.arcsin(S) instead of just np.arcsin(S), because \n",
    "        # the velocity needs to point inward the virial sphere.\n",
    "    if S>1.: # a safety, may not be useful\n",
    "        sys.exit('Invalid orbit! sin(gamma)=%.4f,xc=%4.2f,eps=%4.2f'\\\n",
    "            %(S,xc,eps))\n",
    "    sintheta = np.sin(theta)\n",
    "    costheta = np.cos(theta)\n",
    "    singamma = np.sin(gamma)\n",
    "    cosgamma = np.cos(gamma)\n",
    "    sinzeta = np.sin(zeta)\n",
    "    coszeta = np.cos(zeta)\n",
    "    return np.array([\n",
    "        r0 * sintheta,\n",
    "        np.random.random() * 2.*np.pi,  # uniformly random phi in (0,2pi)\n",
    "        r0 * costheta,\n",
    "        V0 * ( singamma * coszeta * costheta + cosgamma * sintheta ),\n",
    "        V0 * singamma * sinzeta,\n",
    "        V0 * ( cosgamma * costheta - singamma * coszeta * sintheta ),\n",
    "        ])\n",
    "```\n",
    "\n",
    "We can tidy this up..."
   ]
  },
  {
   "cell_type": "code",
   "execution_count": 44,
   "id": "853936bd-5b9f-44ae-90d0-f12d312f02c1",
   "metadata": {},
   "outputs": [],
   "source": [
    "import astropy.cosmology as cosmo\n",
    "from halotools.empirical_models import NFWProfile"
   ]
  },
  {
   "cell_type": "code",
   "execution_count": 150,
   "id": "9d08fb21-5905-4027-b319-bb072ef1b32e",
   "metadata": {},
   "outputs": [
    {
     "data": {
      "text/latex": [
       "$0.019482837 \\; \\mathrm{Mpc}$"
      ],
      "text/plain": [
       "<Quantity 0.01948284 Mpc>"
      ]
     },
     "execution_count": 150,
     "metadata": {},
     "output_type": "execute_result"
    }
   ],
   "source": [
    "z_i = event['zred_i']\n",
    "m_h = event['mhost']\n",
    "\n",
    "lcdm = cosmo.FlatLambdaCDM(name=\"WMAP5\", H0=70.2, Om0=0.277, Tcmb0=2.725, Neff=3.04, m_nu=[0,0,0], Ob0=0.0459)\n",
    "nfw = NFWProfile(cosmology=lcdm, redshift=z_i, mdef='200c', \n",
    "                 conc_mass_model = 'dutton_maccio14')\n",
    "\n",
    "# Are the EPS trees generating masses in h-inverse units or not?\n",
    "\n",
    "m_halo_h_inverse = m_h*lcdm.h\n",
    "c_nfw            = nfw.conc_NFWmodel(prim_haloprop=m_halo_h_inverse)\n",
    "rvir_h_inverse   = nfw.halo_mass_to_halo_radius(m_halo_h_inverse)\n",
    "rvir             = (rvir_h_inverse/lcdm.h)*u.Mpc\n",
    "vcirc_halo       = nfw.circular_velocity(rvir_h_inverse, m_halo_h_inverse, c_nfw)\n",
    "\n",
    "a_nfw = (rvir/c_nfw)\n",
    "a_nfw"
   ]
  },
  {
   "cell_type": "code",
   "execution_count": 151,
   "id": "ae5c43c3-273e-4379-936c-2714a869d6ac",
   "metadata": {},
   "outputs": [],
   "source": [
    "import astropy.constants as const\n",
    "import astropy.units as u\n",
    "\n",
    "G_astro = const.G.to(u.Mpc**3/(u.Msun*u.Gyr**2))\n",
    "f_nfw = lambda x: (np.log(1.+x) - x/(1.+x))"
   ]
  },
  {
   "cell_type": "markdown",
   "id": "5c6b4d07-906a-4716-b705-df4d4551cbda",
   "metadata": {},
   "source": [
    "From SatGen\n",
    "\n",
    "$\\rho_0 = \\frac{\\Delta \\rho_c}{3} \\frac{c^3}{f(c)}$\n",
    "\n",
    "$\\Phi_0 = \\frac{4\\pi G}{\\rho_{0}} r_{s}^2$ \n",
    "\n",
    "$\\Phi(x) = \\Phi_0 \\, \\frac{\\ln(1+x)}{x}$\n"
   ]
  },
  {
   "cell_type": "code",
   "execution_count": 160,
   "id": "8fc89ea9-04ef-48f5-b149-804b88621fb4",
   "metadata": {},
   "outputs": [],
   "source": [
    "def nfw_phi(R, c_nfw, a_nfw, zred=0, delta_halo=200):\n",
    "    \"\"\"\n",
    "    \"\"\"  \n",
    "    disk_prefactor = 1.0 # See 'sf' in satgen.profiles\n",
    "    z = 0.0\n",
    "\n",
    "    # Note the units\n",
    "    halo_rho0 = (lcdm.critical_density(zred)*delta_halo/3.0*c_nfw**3.0/f_nfw(c_nfw)).to(u.Msun/u.kpc**3)\n",
    "    \n",
    "    halo_Phi0 = (4*np.pi*G_astro*halo_rho0*(a_nfw**2)).to(u.kpc**2/u.Gyr**2)\n",
    "    \n",
    "    # The z here is a bit strange, not the redshift\n",
    "    x = np.sqrt(R**2 + z**2)/a_nfw\n",
    "    \n",
    "    return -Phi0 * np.log(1.+x)/x"
   ]
  },
  {
   "cell_type": "code",
   "execution_count": 177,
   "id": "93e5ea32-9208-4e1e-a65a-24edae6eed47",
   "metadata": {},
   "outputs": [],
   "source": [
    "def orbit(z_i, m_halo, xc=1.0, eps=0.5, cosmology=None):\n",
    "    \"\"\"\n",
    "    Initialize the orbit of a satellite, given orbit energy proxy (xc) \n",
    "    and circularity (eps).  \n",
    "    \n",
    "    Syntax:\n",
    "    \n",
    "        orbit(hp,xc=1.,eps=0.5,)\n",
    "        \n",
    "    where\n",
    "    \n",
    "        hp: host potential (a halo density profile object, as defined \n",
    "            in profiles.py) \n",
    "        xc: the orbital energy parameter, defined such that if the \n",
    "            energy of the orbit is E, x_c(E) is the radius of a circular \n",
    "            orbit in units of the host halo's virial radius (default=1.)\n",
    "        eps: the orbital circularity parameter (default=0.5)\n",
    "            \n",
    "    Return:\n",
    "    \n",
    "        phase-space coordinates in cylindrical frame \n",
    "        np.array([R,phi,z,VR,Vphi,Vz])\n",
    "    \"\"\"\n",
    "    if cosmology is None:\n",
    "        cosmology = cosmo.FlatLambdaCDM(name=\"WMAP5\", H0=70.2, Om0=0.277, Tcmb0=2.725, Neff=3.04, m_nu=[0,0,0], Ob0=0.0459)\n",
    "        \n",
    "    nfw = NFWProfile(cosmology=lcdm, redshift=z_i, mdef='vir', \n",
    "                     conc_mass_model = 'dutton_maccio14')\n",
    "\n",
    "    # Halotools requires input in h^-1 and outputs h^-1\n",
    "    m_halo_h_inverse = m_halo*lcdm.h\n",
    "    c_nfw            = nfw.conc_NFWmodel(prim_haloprop=m_halo_h_inverse)\n",
    "    rvir_h_inverse   = nfw.halo_mass_to_halo_radius(m_halo_h_inverse)\n",
    "    rvir             = (rvir_h_inverse/lcdm.h)*u.Mpc\n",
    "    a_nfw            = (rvir/c_nfw)\n",
    "    \n",
    "    # Scaled radius (not scale radius!) -- see SatGen\n",
    "    rc = xc * rvir\n",
    "\n",
    "    # Angle of velocity vector in theta-phi-r frame:\n",
    "    # Random polar angle\n",
    "    theta = np.arccos(2.*np.random.random()-1.)\n",
    "    # Random azimuthal angle\n",
    "    zeta   = 2.*np.pi*np.random.random()\n",
    "    \n",
    "    Vc   = nfw.circular_velocity(rvir_h_inverse, m_halo_h_inverse, c_nfw)*(u.km/u.s)\n",
    "    Phic = nfw_phi(rc, c_nfw, a_nfw)\n",
    "    Phi0 = nfw_phi(rvir, c_nfw, a_nfw)\n",
    "    \n",
    "    V0 = np.sqrt(Vc**2 + 2.*(Phic-Phi0)) \n",
    "    \n",
    "    S = eps * rc/rvir * Vc/V0\n",
    "\n",
    "    # From SatGen:\n",
    "    # angle between r and v vectors. Note that\n",
    "    # we use pi - np.arcsin(S) instead of just np.arcsin(S), because \n",
    "    # the velocity needs to point inward the virial sphere.\n",
    "    gamma = np.pi - np.arcsin(S.value)\n",
    "    \n",
    "    if S>1.: # a safety, may not be useful\n",
    "        sys.exit('Invalid orbit! sin(gamma)=%.4f,xc=%4.2f,eps=%4.2f'\\\n",
    "            %(S,xc,eps))\n",
    "        \n",
    "    sintheta = np.sin(theta)\n",
    "    costheta = np.cos(theta)\n",
    "    singamma = np.sin(gamma)\n",
    "    cosgamma = np.cos(gamma)\n",
    "    sinzeta  = np.sin(zeta)\n",
    "    coszeta  = np.cos(zeta)\n",
    "    return np.array([\n",
    "        rvir * sintheta,\n",
    "        np.random.random() * 2.*np.pi,  # uniformly random phi in (0,2pi)\n",
    "        rvir * costheta,\n",
    "        V0 * ( singamma * coszeta * costheta + cosgamma * sintheta ),\n",
    "        V0 * singamma * sinzeta,\n",
    "        V0 * ( cosgamma * costheta - singamma * coszeta * sintheta ),\n",
    "        ], dtype='object')"
   ]
  },
  {
   "cell_type": "code",
   "execution_count": 178,
   "id": "fc884cc8-469b-46be-ae53-2717046b84b1",
   "metadata": {},
   "outputs": [
    {
     "data": {
      "text/plain": [
       "array([<Quantity 0.08250704 Mpc>, 5.637007679320519,\n",
       "       <Quantity 0.07598995 Mpc>, <Quantity [-83.68959776] km / s>,\n",
       "       <Quantity [-73.87964207] km / s>,\n",
       "       <Quantity [-105.36984807] km / s>], dtype=object)"
      ]
     },
     "execution_count": 178,
     "metadata": {},
     "output_type": "execute_result"
    }
   ],
   "source": [
    "orbit(z_i, m_h, xc=1.0, eps=0.5, cosmology=lcdm)"
   ]
  },
  {
   "cell_type": "code",
   "execution_count": 179,
   "id": "3cc3d327-27b2-46fa-a19b-a5ebc74f6a24",
   "metadata": {},
   "outputs": [
    {
     "data": {
      "text/plain": [
       "array([<Quantity 0.09218488 Mpc>, 5.650258066914984,\n",
       "       <Quantity 0.06390486 Mpc>, <Quantity [-87.70164391] km / s>,\n",
       "       <Quantity [-18.91409316] km / s>,\n",
       "       <Quantity [-124.56176743] km / s>], dtype=object)"
      ]
     },
     "execution_count": 179,
     "metadata": {},
     "output_type": "execute_result"
    }
   ],
   "source": [
    "orbit(z_i, m_h, xc=1.0, eps=eps, cosmology=lcdm)"
   ]
  },
  {
   "cell_type": "code",
   "execution_count": null,
   "id": "f47dbc28-b3a9-4d33-a733-46c04d127f03",
   "metadata": {},
   "outputs": [],
   "source": []
  },
  {
   "cell_type": "code",
   "execution_count": null,
   "id": "83f295ce-121d-46dd-9aac-1ce1d067a431",
   "metadata": {},
   "outputs": [],
   "source": []
  },
  {
   "cell_type": "code",
   "execution_count": null,
   "id": "b237dda5-39e1-49b7-ba38-cdfc9fbf566b",
   "metadata": {},
   "outputs": [],
   "source": []
  },
  {
   "cell_type": "code",
   "execution_count": null,
   "id": "e4c56698-1bc2-45c4-a643-a06156398752",
   "metadata": {},
   "outputs": [],
   "source": []
  },
  {
   "cell_type": "code",
   "execution_count": null,
   "id": "e21f9e94-9630-4b6e-badb-40b043638772",
   "metadata": {},
   "outputs": [],
   "source": []
  },
  {
   "cell_type": "code",
   "execution_count": 19,
   "id": "ee30707c-e6fe-448c-ad18-db22e697e609",
   "metadata": {},
   "outputs": [
    {
     "ename": "NameError",
     "evalue": "name 'init' is not defined",
     "output_type": "error",
     "traceback": [
      "\u001b[0;31m---------------------------------------------------------------------------\u001b[0m",
      "\u001b[0;31mNameError\u001b[0m                                 Traceback (most recent call last)",
      "\u001b[0;32m/tmp/ipykernel_60192/1054980128.py\u001b[0m in \u001b[0;36m<module>\u001b[0;34m\u001b[0m\n\u001b[1;32m      1\u001b[0m \u001b[0meps\u001b[0m \u001b[0;34m=\u001b[0m \u001b[0;36m1.\u001b[0m\u001b[0;34m/\u001b[0m\u001b[0mnp\u001b[0m\u001b[0;34m.\u001b[0m\u001b[0mpi\u001b[0m\u001b[0;34m*\u001b[0m\u001b[0mnp\u001b[0m\u001b[0;34m.\u001b[0m\u001b[0marccos\u001b[0m\u001b[0;34m(\u001b[0m\u001b[0;36m1.\u001b[0m\u001b[0;34m-\u001b[0m\u001b[0;36m2.\u001b[0m\u001b[0;34m*\u001b[0m\u001b[0mnp\u001b[0m\u001b[0;34m.\u001b[0m\u001b[0mrandom\u001b[0m\u001b[0;34m.\u001b[0m\u001b[0mrandom\u001b[0m\u001b[0;34m(\u001b[0m\u001b[0;34m)\u001b[0m\u001b[0;34m)\u001b[0m\u001b[0;34m\u001b[0m\u001b[0;34m\u001b[0m\u001b[0m\n\u001b[0;32m----> 2\u001b[0;31m \u001b[0mxv\u001b[0m  \u001b[0;34m=\u001b[0m \u001b[0minit\u001b[0m\u001b[0;34m.\u001b[0m\u001b[0morbit\u001b[0m\u001b[0;34m(\u001b[0m\u001b[0mhp\u001b[0m\u001b[0;34m,\u001b[0m\u001b[0mxc\u001b[0m\u001b[0;34m=\u001b[0m\u001b[0;36m1.\u001b[0m\u001b[0;34m,\u001b[0m\u001b[0meps\u001b[0m\u001b[0;34m=\u001b[0m\u001b[0meps\u001b[0m\u001b[0;34m)\u001b[0m\u001b[0;34m\u001b[0m\u001b[0;34m\u001b[0m\u001b[0m\n\u001b[0m",
      "\u001b[0;31mNameError\u001b[0m: name 'init' is not defined"
     ]
    }
   ],
   "source": [
    "eps = 1./np.pi*np.arccos(1.-2.*np.random.random())\n",
    "xv  = init.orbit(hp,xc=1.,eps=eps)"
   ]
  },
  {
   "cell_type": "raw",
   "id": "4416bd48-5a6e-4345-a2ce-6266ba40a71b",
   "metadata": {},
   "source": [
    "            Mp  = mass[ip,iz[0]]\n",
    "            c2p = concentration[ip,iz[0]]\n",
    "            hp  = NFW(Mp,c2p,Delta=cfg.Dvsample[iz[0]],z=zsample[0])\n",
    "            if(optype == 'zentner'):\n",
    "                eps = 1./np.pi*np.arccos(1.-2.*np.random.random())\n",
    "                xv  = init.orbit(hp,xc=1.,eps=eps)\n",
    "            elif(optype == 'zzli'):\n",
    "                vel_ratio, gamma = init.ZZLi2020(hp, Msample[0], zsample[0])\n",
    "                xv = init.orbit_from_Li2020(hp, vel_ratio, gamma)\n",
    "            elif(optype == 'jiang'):\n",
    "                sp = NFW(Msample[0],c2[0],Delta=cfg.Dvsample[iz[0]],z=zsample[0])\n",
    "                xv = init.orbit_from_Jiang2015(hp,sp,zsample[0])"
   ]
  },
  {
   "cell_type": "raw",
   "id": "9d84c49d-8f35-439a-af84-41063fe9aad2",
   "metadata": {},
   "source": [
    "            Mp = mass[ip,iz[0]]\n",
    "            cp = DekelConcentration[ip,iz[0]]\n",
    "            ap = DekelSlope[ip,iz[0]]\n",
    "            hp = Dekel(Mp,cp,ap,Delta=200.,z=zsample[0])\n",
    "            eps = 1./np.pi*np.arccos(1.-2.*np.random.random())\n",
    "            xv = init.orbit(hp,xc=1.,eps=eps)\n",
    "        "
   ]
  }
 ],
 "metadata": {
  "kernelspec": {
   "display_name": "mypy2",
   "language": "python",
   "name": "mypy2"
  },
  "language_info": {
   "codemirror_mode": {
    "name": "ipython",
    "version": 3
   },
   "file_extension": ".py",
   "mimetype": "text/x-python",
   "name": "python",
   "nbconvert_exporter": "python",
   "pygments_lexer": "ipython3",
   "version": "3.7.12"
  }
 },
 "nbformat": 4,
 "nbformat_minor": 5
}
